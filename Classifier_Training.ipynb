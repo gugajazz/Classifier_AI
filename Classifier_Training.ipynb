{
 "cells": [
  {
   "cell_type": "code",
   "execution_count": 3,
   "id": "f7eb1a12",
   "metadata": {},
   "outputs": [],
   "source": [
    "import tensorflow as tf\n",
    "import pathlib\n",
    "import PIL\n",
    "import numpy as np\n",
    "\n",
    "import matplotlib\n",
    "matplotlib.use(\"TKAgg\")\n",
    "import matplotlib.pyplot as plt\n",
    "\n",
    "import torch\n",
    "import torchvision.transforms as transforms\n",
    "from PIL import Image\n",
    "import os\n",
    "import scipy\n",
    "\n",
    "AUTOTUNE = tf.data.AUTOTUNE # prompts the tf.data runtime to tune the value dynamically at runtime\n",
    "\n"
   ]
  },
  {
   "cell_type": "code",
   "execution_count": 93,
   "id": "518d677b",
   "metadata": {},
   "outputs": [],
   "source": [
    "batch_size = 32\n",
    "img_height = 28\n",
    "img_width = 28\n",
    "\n",
    "def create_dataset_from_path(path):\n",
    "\n",
    "    # function that converts a file path to an (img, label) pair\n",
    "    def get_label(file_path):\n",
    "      # Convert the path to a list of path components\n",
    "      parts = tf.strings.split(file_path, os.path.sep)\n",
    "      # The second to last is the class-directory\n",
    "      one_hot = parts[-2] == class_names\n",
    "      # Integer encode the label\n",
    "      return tf.argmax(one_hot)\n",
    "\n",
    "    def decode_img(img):\n",
    "      # Convert the compressed string to a 3D uint8 tensor\n",
    "      img = tf.io.decode_jpeg(img, channels=1)\n",
    "      # Resize the image to the desired size\n",
    "      return tf.image.resize(img, [img_height, img_width])\n",
    "\n",
    "    def process_path(file_path):\n",
    "      label = get_label(file_path)\n",
    "      # Load the raw data from the file as a string\n",
    "      img = tf.io.read_file(file_path)\n",
    "      img = decode_img(img)\n",
    "      return img, label\n",
    "\n",
    "    # Make the imgs in to batches\n",
    "    def configure_for_performance(ds):\n",
    "      ds = ds.cache()\n",
    "      ds = ds.shuffle(buffer_size=1000)\n",
    "      ds = ds.batch(batch_size)\n",
    "      ds = ds.prefetch(buffer_size=AUTOTUNE)\n",
    "      return ds\n",
    "\n",
    "    data_dir = pathlib.Path(path) # for pycharm\n",
    "    #data_dir = pathlib.Path('mnist_png/training') # for the jupyter notebook\n",
    "\n",
    "    print(path+'\\\\*\\\\*')\n",
    "\n",
    "    # Shuffle might be better set to False but this seems better for now\n",
    "    list_ds = tf.data.Dataset.list_files((path+'\\\\*\\\\*'), shuffle=True)\n",
    "\n",
    "    image_count = len(list_ds)\n",
    "    class_names = np.array(sorted([item.name for item in data_dir.glob('*')]))\n",
    "    print(class_names)\n",
    "    val_size = int(image_count * 0.2)\n",
    "    train_ds = list_ds.skip(val_size) # skips x initial elements from this dataset.\n",
    "    val_ds = list_ds.take(val_size)\n",
    "    print(tf.data.experimental.cardinality(train_ds).numpy())\n",
    "    print(tf.data.experimental.cardinality(val_ds).numpy())\n",
    "\n",
    "\n",
    "    # Set `num_parallel_calls` so multiple images are loaded/processed in parallel.\n",
    "    train_ds = train_ds.map(process_path, num_parallel_calls=AUTOTUNE)\n",
    "    val_ds = val_ds.map(process_path, num_parallel_calls=AUTOTUNE)\n",
    "\n",
    "    normalization_layer = tf.keras.layers.Rescaling(1./255)\n",
    "\n",
    "    normalized_ds = train_ds.map(lambda x, y: (normalization_layer(x), y))\n",
    "    # normalized_ds  -> range goes from 0 to 1\n",
    "    # train_ds  -> range goes from 0 to\n",
    "\n",
    "    val_ds = val_ds.map(lambda x, y: (normalization_layer(x), y))\n",
    "\n",
    "    normalized_ds = configure_for_performance(normalized_ds)\n",
    "    val_ds = configure_for_performance(val_ds)\n",
    "\n",
    "    print(normalized_ds)\n",
    "    return normalized_ds, val_ds, class_names\n",
    "\n",
    "\n",
    "def create_dataset_from_img(path):\n",
    "\n",
    "    def decode_img(img):\n",
    "      # Convert the compressed string to a 3D uint8 tensor\n",
    "      img = tf.io.decode_jpeg(img, channels=1)\n",
    "      # Resize the image to the desired size\n",
    "      return tf.image.resize(img, [img_height, img_width])\n",
    "\n",
    "    def process_path(file_path):\n",
    "      label = tf.strings.split(file_path, os.path.sep)[-2]\n",
    "      #print(label)\n",
    "      # Load the raw data from the file as a string\n",
    "      img = tf.io.read_file(file_path)\n",
    "      img = decode_img(img)\n",
    "      return img, label\n",
    "\n",
    "\n",
    "    # Make the imgs in to batches\n",
    "    def configure_for_performance(ds):\n",
    "      ds = ds.cache()\n",
    "      ds = ds.shuffle(buffer_size=1000)\n",
    "      ds = ds.batch(1)\n",
    "      ds = ds.prefetch(buffer_size=AUTOTUNE)\n",
    "      return ds\n",
    "\n",
    "    data_dir = pathlib.Path(path) # for pycharm\n",
    "    #data_dir = pathlib.Path('mnist_png/training') # for the jupyter notebook\n",
    "\n",
    "    #print(path+'\\\\*\\\\*')\n",
    "\n",
    "\n",
    "    list_ds = tf.data.Dataset.list_files(path, shuffle=True)\n",
    "\n",
    "    image_count = len(list_ds)\n",
    "    class_name = [int(tf.strings.split(path, os.path.sep)[-2])]\n",
    "    #print(f\"Class -> {class_name}\")\n",
    "    val_size = int(image_count)\n",
    "    val_ds = list_ds.take(val_size)\n",
    "    #print(tf.data.experimental.cardinality(val_ds).numpy())\n",
    "\n",
    "\n",
    "    # Set `num_parallel_calls` so multiple images are loaded/processed in parallel.\n",
    "    val_ds = val_ds.map(process_path, num_parallel_calls=AUTOTUNE)\n",
    "\n",
    "    normalization_layer = tf.keras.layers.Rescaling(1./255)\n",
    "    val_ds = val_ds.map(lambda x, y: (normalization_layer(x), y))\n",
    "\n",
    "    val_ds = configure_for_performance(val_ds)\n",
    "\n",
    "\n",
    "    return val_ds, class_name"
   ]
  },
  {
   "cell_type": "code",
   "execution_count": 7,
   "id": "38a3296f",
   "metadata": {
    "pycharm": {
     "name": "#%%\n"
    }
   },
   "outputs": [
    {
     "data": {
      "text/plain": "'D:\\\\AI_Projects\\\\Classifier'"
     },
     "execution_count": 7,
     "metadata": {},
     "output_type": "execute_result"
    }
   ],
   "source": [
    "os.getcwd()\n",
    "os.chdir('D:\\AI_Projects\\Classifier')\n",
    "os.getcwd()"
   ]
  },
  {
   "cell_type": "code",
   "execution_count": null,
   "outputs": [],
   "source": [
    "#normalized_ds, val_ds = create_dataset_from_path('Classifier\\\\mnist_png\\\\training')\n",
    "normalized_ds, val_ds, class_names = create_dataset_from_path('mnist_png\\\\me')"
   ],
   "metadata": {
    "collapsed": false,
    "pycharm": {
     "name": "#%%\n"
    }
   }
  },
  {
   "cell_type": "code",
   "execution_count": 4,
   "id": "cfa88fe7",
   "metadata": {
    "pycharm": {
     "name": "#%%\n"
    }
   },
   "outputs": [
    {
     "name": "stdout",
     "output_type": "stream",
     "text": [
      "Image shape:  (28, 28, 1)\n",
      "Label:  1\n",
      "Label:  [1 5 4 3 9 0 4 2 4 0 7 9 2 5 3 4 7 3 7 4 1 3 1 4 2 3 6 8 9 1 6 7]\n",
      "Image shape:  (28, 28, 3)\n",
      "Label:  1\n",
      "0.0 1.0\n"
     ]
    },
    {
     "ename": "FileNotFoundError",
     "evalue": "[Errno 2] No such file or directory: 'Classifier\\\\temp.png'",
     "output_type": "error",
     "traceback": [
      "\u001B[1;31m---------------------------------------------------------------------------\u001B[0m",
      "\u001B[1;31mFileNotFoundError\u001B[0m                         Traceback (most recent call last)",
      "Input \u001B[1;32mIn [4]\u001B[0m, in \u001B[0;36m<cell line: 2>\u001B[1;34m()\u001B[0m\n\u001B[0;32m     31\u001B[0m     img \u001B[38;5;241m=\u001B[39m Image\u001B[38;5;241m.\u001B[39mfromarray(image_uint8, \u001B[38;5;124m'\u001B[39m\u001B[38;5;124mRGB\u001B[39m\u001B[38;5;124m'\u001B[39m)\n\u001B[0;32m     32\u001B[0m     \u001B[38;5;66;03m#img.show()\u001B[39;00m\n\u001B[1;32m---> 33\u001B[0m     \u001B[43mimg\u001B[49m\u001B[38;5;241;43m.\u001B[39;49m\u001B[43msave\u001B[49m\u001B[43m(\u001B[49m\u001B[38;5;124;43m'\u001B[39;49m\u001B[38;5;124;43mClassifier\u001B[39;49m\u001B[38;5;130;43;01m\\\\\u001B[39;49;00m\u001B[38;5;124;43mtemp.png\u001B[39;49m\u001B[38;5;124;43m'\u001B[39;49m\u001B[43m)\u001B[49m\n\u001B[0;32m     35\u001B[0m PIL\u001B[38;5;241m.\u001B[39mImage\u001B[38;5;241m.\u001B[39mopen(\u001B[38;5;124m'\u001B[39m\u001B[38;5;124mClassifier\u001B[39m\u001B[38;5;130;01m\\\\\u001B[39;00m\u001B[38;5;124mtemp.png\u001B[39m\u001B[38;5;124m'\u001B[39m)\n",
      "File \u001B[1;32m~\\anaconda3\\lib\\site-packages\\PIL\\Image.py:2209\u001B[0m, in \u001B[0;36mImage.save\u001B[1;34m(self, fp, format, **params)\u001B[0m\n\u001B[0;32m   2207\u001B[0m         fp \u001B[38;5;241m=\u001B[39m builtins\u001B[38;5;241m.\u001B[39mopen(filename, \u001B[38;5;124m\"\u001B[39m\u001B[38;5;124mr+b\u001B[39m\u001B[38;5;124m\"\u001B[39m)\n\u001B[0;32m   2208\u001B[0m     \u001B[38;5;28;01melse\u001B[39;00m:\n\u001B[1;32m-> 2209\u001B[0m         fp \u001B[38;5;241m=\u001B[39m \u001B[43mbuiltins\u001B[49m\u001B[38;5;241;43m.\u001B[39;49m\u001B[43mopen\u001B[49m\u001B[43m(\u001B[49m\u001B[43mfilename\u001B[49m\u001B[43m,\u001B[49m\u001B[43m \u001B[49m\u001B[38;5;124;43m\"\u001B[39;49m\u001B[38;5;124;43mw+b\u001B[39;49m\u001B[38;5;124;43m\"\u001B[39;49m\u001B[43m)\u001B[49m\n\u001B[0;32m   2211\u001B[0m \u001B[38;5;28;01mtry\u001B[39;00m:\n\u001B[0;32m   2212\u001B[0m     save_handler(\u001B[38;5;28mself\u001B[39m, fp, filename)\n",
      "\u001B[1;31mFileNotFoundError\u001B[0m: [Errno 2] No such file or directory: 'Classifier\\\\temp.png'"
     ]
    }
   ],
   "source": [
    "# Using the normalized\n",
    "for imageBatch, labelBatch in normalized_ds.take(1):\n",
    "    print(\"Image shape: \", imageBatch.numpy()[0].shape)\n",
    "    print(\"Label: \", labelBatch.numpy()[0])\n",
    "    print(\"Label: \", labelBatch.numpy())\n",
    "    #print(np.min(image), np.max(image))\n",
    "\n",
    "    # f = open(\"demofile.txt\", \"a\")\n",
    "    # for a in range(28): # goes from 0 to 27\n",
    "    #   for b in range(28):\n",
    "    #     print(f'{round(float(image[b][a][0]), 1)}',end='')\n",
    "    #     f.write(str(round(float(image[b][a][0]), 1)))\n",
    "    #   print(f'\\n')\n",
    "    #   f.write('\\n')\n",
    "    # f.close()\n",
    "\n",
    "    imgToBeDisplayed = imageBatch.numpy()[0]\n",
    "\n",
    "    extraChannel = np.zeros((28,28,1))\n",
    "    imgToBeDisplayed = np.concatenate((imgToBeDisplayed,extraChannel), axis=2)\n",
    "    imgToBeDisplayed = np.concatenate((imgToBeDisplayed,extraChannel), axis=2)\n",
    "    imgToBeDisplayed = imgToBeDisplayed * 255\n",
    "\n",
    "    print(\"Image shape: \", imgToBeDisplayed.shape)\n",
    "    print(\"Label: \", labelBatch.numpy()[0])\n",
    "    # #print(f'->{image}')\n",
    "\n",
    "    print(np.min(imageBatch[0]), np.max(imageBatch[0]))\n",
    "\n",
    "    image_uint8 = imgToBeDisplayed.astype(np.uint8)\n",
    "    img = Image.fromarray(image_uint8, 'RGB')\n",
    "    #img.show()\n",
    "    img.save('Classifier\\\\temp.png')\n",
    "\n",
    "PIL.Image.open('Classifier\\\\temp.png')"
   ]
  },
  {
   "cell_type": "code",
   "execution_count": null,
   "id": "50290e65",
   "metadata": {
    "pycharm": {
     "name": "#%%\n"
    }
   },
   "outputs": [],
   "source": [
    "os.remove('Classifier/temp.png')"
   ]
  },
  {
   "cell_type": "code",
   "execution_count": 9,
   "id": "f2a19c72",
   "metadata": {},
   "outputs": [],
   "source": [
    "num_classes = 10\n",
    "\n",
    "model = tf.keras.Sequential([\n",
    "  tf.keras.layers.Conv2D(filters=15, kernel_size=(5,5), padding='Same', activation='relu', input_shape=(28, 28, 1),\n",
    "                         data_format=\"channels_last\"),\n",
    "  tf.keras.layers.MaxPooling2D(pool_size=(2, 2)),\n",
    "\n",
    "  tf.keras.layers.Conv2D(filters=20, kernel_size=(10,10), padding='Same', activation='relu'),\n",
    "  tf.keras.layers.MaxPooling2D(pool_size=(2, 2)),\n",
    "\n",
    "  tf.keras.layers.Conv2D(filters=25, kernel_size=(15,15), padding='Same', activation='relu'),\n",
    "  tf.keras.layers.MaxPooling2D(pool_size=(2, 2)),\n",
    "\n",
    "  tf.keras.layers.Flatten(),\n",
    "  tf.keras.layers.Dense(128, activation='relu'),\n",
    "  tf.keras.layers.Dense(num_classes)\n",
    "])"
   ]
  },
  {
   "cell_type": "code",
   "execution_count": 10,
   "id": "b483aa48",
   "metadata": {
    "pycharm": {
     "name": "#%%\n"
    }
   },
   "outputs": [],
   "source": [
    "model.compile(\n",
    "  optimizer='adam',\n",
    "  loss=tf.keras.losses.SparseCategoricalCrossentropy(from_logits=True),\n",
    "  metrics=['accuracy'])\n"
   ]
  },
  {
   "cell_type": "code",
   "execution_count": 11,
   "id": "d301b125",
   "metadata": {},
   "outputs": [
    {
     "name": "stdout",
     "output_type": "stream",
     "text": [
      "Epoch 1/10\n",
      "7/7 [==============================] - 9s 149ms/step - loss: 2.2798 - accuracy: 0.1300 - val_loss: 41.3792 - val_accuracy: 0.2600\b\b\b\b\b\b\b\b\b\b\b\b\b\b\b\b\b\b\b\b\b\b\b\b\b\b\b\b\b\b\b\b\b\b\b\b\b\b\b\b\b\b\b\b\b\b\b\b\b\b\b\b\b\b\b\b\b\b\b\b\b\b\b\b\b\b\b\b\b\b\b\b\b\b\b\b\b\b\b\b\b\b\b\b\b\b\b\b\b\b\b\b\b\b\b\b\b\b\b\b\b\b\b\b\b\b\b\b\b\b\b\b\b\b\b\b\b\b\b\b\b\b\b\b\b\b\b\b\b\b\b\b\b\b\b\b\b\b\b\b\b\b\b\b\b\b\b\b\b\b\b\b\b\b\b\b\b\b\b\b\b\b\b\b\b\b\b\b\b\b\b\b\b\b\b\b\b\b\b\b\b\b\b\b\b\b\b\b\b\b\b\b\b\n",
      "Epoch 2/10\n",
      "7/7 [==============================] - 0s 17ms/step - loss: 2.0695 - accuracy: 0.2750 - val_loss: 77.0688 - val_accuracy: 0.4000\b\b\b\b\b\b\b\b\b\b\b\b\b\b\b\b\b\b\b\b\b\b\b\b\b\b\b\b\b\b\b\b\b\b\b\b\b\b\b\b\b\b\b\b\b\b\b\b\b\b\b\b\b\b\b\b\b\b\b\b\b\b\b\b\b\b\b\b\b\b\b\b\b\b\b\b\b\b\b\b\b\b\b\b\b\b\b\b\b\b\b\b\b\b\b\b\b\b\b\b\b\b\b\b\b\b\b\b\b\b\b\b\n",
      "Epoch 3/10\n",
      "7/7 [==============================] - 0s 20ms/step - loss: 1.6872 - accuracy: 0.4450 - val_loss: 69.8000 - val_accuracy: 0.5400\b\b\b\b\b\b\b\b\b\b\b\b\b\b\b\b\b\b\b\b\b\b\b\b\b\b\b\b\b\b\b\b\b\b\b\b\b\b\b\b\b\b\b\b\b\b\b\b\b\b\b\b\b\b\b\b\b\b\b\b\b\b\b\b\b\b\b\b\b\b\b\b\b\b\b\b\b\b\b\b\b\b\b\b\b\b\b\b\b\b\b\b\b\b\b\b\b\b\b\b\b\b\b\b\b\b\b\b\b\b\b\b\n",
      "Epoch 4/10\n",
      "7/7 [==============================] - 0s 17ms/step - loss: 1.2133 - accuracy: 0.6300 - val_loss: 47.5034 - val_accuracy: 0.7600\b\b\b\b\b\b\b\b\b\b\b\b\b\b\b\b\b\b\b\b\b\b\b\b\b\b\b\b\b\b\b\b\b\b\b\b\b\b\b\b\b\b\b\b\b\b\b\b\b\b\b\b\b\b\b\b\b\b\b\b\b\b\b\b\b\b\b\b\b\b\b\b\b\b\b\b\b\b\b\b\b\b\b\b\b\b\b\b\b\b\b\b\b\b\b\b\b\b\b\b\b\b\b\b\b\b\b\b\b\b\b\b\n",
      "Epoch 5/10\n",
      "7/7 [==============================] - 0s 18ms/step - loss: 0.7733 - accuracy: 0.7300 - val_loss: 63.0314 - val_accuracy: 0.7800\b\b\b\b\b\b\b\b\b\b\b\b\b\b\b\b\b\b\b\b\b\b\b\b\b\b\b\b\b\b\b\b\b\b\b\b\b\b\b\b\b\b\b\b\b\b\b\b\b\b\b\b\b\b\b\b\b\b\b\b\b\b\b\b\b\b\b\b\b\b\b\b\b\b\b\b\b\b\b\b\b\b\b\b\b\b\b\b\b\b\b\b\b\b\b\b\b\b\b\b\b\b\b\b\b\b\b\b\b\b\b\b\n",
      "Epoch 6/10\n",
      "7/7 [==============================] - 0s 17ms/step - loss: 0.5530 - accuracy: 0.7850 - val_loss: 64.4695 - val_accuracy: 0.8000\b\b\b\b\b\b\b\b\b\b\b\b\b\b\b\b\b\b\b\b\b\b\b\b\b\b\b\b\b\b\b\b\b\b\b\b\b\b\b\b\b\b\b\b\b\b\b\b\b\b\b\b\b\b\b\b\b\b\b\b\b\b\b\b\b\b\b\b\b\b\b\b\b\b\b\b\b\b\b\b\b\b\b\b\b\b\b\b\b\b\b\b\b\b\b\b\b\b\b\b\b\b\b\b\b\b\b\b\b\b\b\b\n",
      "Epoch 7/10\n",
      "7/7 [==============================] - 0s 21ms/step - loss: 0.4640 - accuracy: 0.8300 - val_loss: 28.0446 - val_accuracy: 0.9000\b\b\b\b\b\b\b\b\b\b\b\b\b\b\b\b\b\b\b\b\b\b\b\b\b\b\b\b\b\b\b\b\b\b\b\b\b\b\b\b\b\b\b\b\b\b\b\b\b\b\b\b\b\b\b\b\b\b\b\b\b\b\b\b\b\b\b\b\b\b\b\b\b\b\b\b\b\b\b\b\b\b\b\b\b\b\b\b\b\b\b\b\b\b\b\b\b\b\b\b\b\b\b\b\b\b\b\b\b\b\b\b\n",
      "Epoch 8/10\n",
      "7/7 [==============================] - 0s 18ms/step - loss: 0.3520 - accuracy: 0.8950 - val_loss: 26.3710 - val_accuracy: 0.9400\b\b\b\b\b\b\b\b\b\b\b\b\b\b\b\b\b\b\b\b\b\b\b\b\b\b\b\b\b\b\b\b\b\b\b\b\b\b\b\b\b\b\b\b\b\b\b\b\b\b\b\b\b\b\b\b\b\b\b\b\b\b\b\b\b\b\b\b\b\b\b\b\b\b\b\b\b\b\b\b\b\b\b\b\b\b\b\b\b\b\b\b\b\b\b\b\b\b\b\b\b\b\b\b\b\b\b\b\b\b\b\b\n",
      "Epoch 9/10\n",
      "7/7 [==============================] - 0s 23ms/step - loss: 0.2068 - accuracy: 0.9500 - val_loss: 10.7053 - val_accuracy: 0.9600\b\b\b\b\b\b\b\b\b\b\b\b\b\b\b\b\b\b\b\b\b\b\b\b\b\b\b\b\b\b\b\b\b\b\b\b\b\b\b\b\b\b\b\b\b\b\b\b\b\b\b\b\b\b\b\b\b\b\b\b\b\b\b\b\b\b\b\b\b\b\b\b\b\b\b\b\b\b\b\b\b\b\b\b\b\b\b\b\b\b\b\b\b\b\b\b\b\b\b\b\b\b\b\b\b\b\b\b\b\b\b\b\n",
      "Epoch 10/10\n",
      "7/7 [==============================] - 0s 18ms/step - loss: 0.1504 - accuracy: 0.9700 - val_loss: 21.6000 - val_accuracy: 0.9600\b\b\b\b\b\b\b\b\b\b\b\b\b\b\b\b\b\b\b\b\b\b\b\b\b\b\b\b\b\b\b\b\b\b\b\b\b\b\b\b\b\b\b\b\b\b\b\b\b\b\b\b\b\b\b\b\b\b\b\b\b\b\b\b\b\b\b\b\b\b\b\b\b\b\b\b\b\b\b\b\b\b\b\b\b\b\b\b\b\b\b\b\b\b\b\b\b\b\b\b\b\b\b\b\b\b\b\b\b\b\b\b\n"
     ]
    }
   ],
   "source": [
    "epochs=10\n",
    "\n",
    "history = model.fit(\n",
    "  normalized_ds,\n",
    "  validation_data=val_ds,\n",
    "  epochs=epochs\n",
    ")\n",
    "\n"
   ]
  },
  {
   "cell_type": "code",
   "execution_count": null,
   "id": "54e40063",
   "metadata": {},
   "outputs": [],
   "source": [
    "model.save('Classifier/saved_models')\n",
    "\n",
    "model.summary()"
   ]
  },
  {
   "cell_type": "code",
   "execution_count": null,
   "id": "1385e864",
   "metadata": {},
   "outputs": [],
   "source": [
    "model = tf.keras.models.load_model('saved_models')\n"
   ]
  },
  {
   "cell_type": "code",
   "execution_count": null,
   "id": "fdd24cdc",
   "metadata": {
    "pycharm": {
     "name": "#%%\n"
    }
   },
   "outputs": [],
   "source": [
    "model = tf.keras.models.load_model('Classifier/saved_models')"
   ]
  },
  {
   "cell_type": "code",
   "execution_count": null,
   "id": "74847abb",
   "metadata": {
    "pycharm": {
     "name": "#%%\n"
    }
   },
   "outputs": [],
   "source": [
    "tf.keras.utils.plot_model(model, to_file='model.png',\n",
    "                          show_shapes=True, show_layer_activations=True)"
   ]
  },
  {
   "cell_type": "code",
   "execution_count": 12,
   "id": "48ee2361",
   "metadata": {
    "pycharm": {
     "name": "#%%\n"
    }
   },
   "outputs": [],
   "source": [
    "acc = history.history['accuracy']\n",
    "val_acc = history.history['val_accuracy']\n",
    "\n",
    "loss = history.history['loss']\n",
    "val_loss = history.history['val_loss']\n",
    "\n",
    "epochs_range = range(epochs)\n",
    "\n"
   ]
  },
  {
   "cell_type": "code",
   "execution_count": 15,
   "id": "0788f017",
   "metadata": {},
   "outputs": [],
   "source": [
    "plt.figure(figsize=(8, 8))\n",
    "plt.subplot(1, 2, 1)\n",
    "\n",
    "plt.subplot(1, 2, 1)\n",
    "plt.plot(epochs_range, acc, label='Training Accuracy')\n",
    "plt.plot(epochs_range, val_acc, label='Validation Accuracy')\n",
    "plt.legend(loc='lower right')\n",
    "plt.title('Training and Validation Accuracy')\n",
    "\n",
    "plt.subplot(1, 2, 2)\n",
    "plt.plot(epochs_range, loss, label='Training Loss')\n",
    "plt.plot(epochs_range, val_loss, label='Validation Loss')\n",
    "plt.legend(loc='upper right')\n",
    "plt.title('Training and Validation Loss')\n",
    "plt.show()"
   ]
  },
  {
   "cell_type": "code",
   "execution_count": 94,
   "id": "0a808b46",
   "metadata": {
    "pycharm": {
     "name": "#%%\n"
    }
   },
   "outputs": [],
   "source": [
    "def test_model(img_path):\n",
    "\n",
    "    test_val_ds, test_class_names = create_dataset_from_img(img_path)\n",
    "\n",
    "    predictions = model.predict(test_val_ds)\n",
    "    score = tf.nn.softmax(predictions[0])\n",
    "\n",
    "    answerBool = (int(class_names[np.argmax(score)]) == test_class_names[0])\n",
    "\n",
    "    print(\n",
    "        \"[{}] This image most likely belongs to {} with a {:.2f} percent confidence.\"\n",
    "        .format(answerBool, class_names[np.argmax(score)], 100 * np.max(score))\n",
    "    )\n",
    "\n",
    "    for imageBatch, labelBatch in test_val_ds.take(1):\n",
    "        imgToBeDisplayed = imageBatch.numpy()[0]\n",
    "\n",
    "        extraChannel = np.zeros((28,28,1))\n",
    "        imgToBeDisplayed = np.concatenate((imgToBeDisplayed,extraChannel), axis=2)\n",
    "        imgToBeDisplayed = np.concatenate((imgToBeDisplayed,extraChannel), axis=2)\n",
    "        imgToBeDisplayed = imgToBeDisplayed * 255\n",
    "\n",
    "        image_uint8 = imgToBeDisplayed.astype(np.uint8)\n",
    "        img = Image.fromarray(image_uint8, 'RGB')\n",
    "        #img.show()\n",
    "        img.save('temp.png')\n"
   ]
  },
  {
   "cell_type": "code",
   "execution_count": 95,
   "outputs": [
    {
     "name": "stdout",
     "output_type": "stream",
     "text": [
      "1/1 [==============================] - 0s 69ms/step\b\b\b\b\b\b\b\b\b\b\b\b\b\b\b\b\b\b\b\b\b\b\b\b\b\b\b\b\b\b\b\b\b\b\b\b\b\b\b\b\b\n",
      "[True] This image most likely belongs to 0 with a 99.81 percent confidence.\n"
     ]
    },
    {
     "data": {
      "text/plain": "<PIL.PngImagePlugin.PngImageFile image mode=RGB size=28x28>",
      "image/png": "[encoded data removed]"
     },
     "execution_count": 95,
     "metadata": {},
     "output_type": "execute_result"
    }
   ],
   "source": [
    "test_model('D:\\\\AI_Projects\\\\Classifier\\\\mnist_png\\\\testing\\\\0\\\\3.png')\n",
    "PIL.Image.open('temp.png')"
   ],
   "metadata": {
    "collapsed": false,
    "pycharm": {
     "name": "#%%\n"
    }
   }
  },
  {
   "cell_type": "code",
   "execution_count": null,
   "id": "fac75459",
   "metadata": {
    "pycharm": {
     "name": "#%%\n"
    }
   },
   "outputs": [],
   "source": [
    "# Read the image\n",
    "# img = Image.open('Classifier/mnist_png/testing/0/3.png')\n",
    "#\n",
    "# # define a transform to convert the image to grayscale\n",
    "# transform = transforms.Grayscale()\n",
    "#\n",
    "# # apply the above transform on the image\n",
    "# img = transform(img)\n",
    "#\n",
    "# # dispaly the image\n",
    "# #img.show()\n",
    "#\n",
    "# convert_tensor = transforms.ToTensor()\n",
    "#\n",
    "# img_tensor = convert_tensor(img)\n",
    "#\n",
    "# print(img_tensor.shape)\n",
    "\n",
    "# testing_ds = tf.keras.utils.image_dataset_from_directory(\n",
    "#   pathlib.Path('Classifier/mnist_png/me'),\n",
    "#   seed=123,\n",
    "#   image_size=(img_height, img_width),\n",
    "#   batch_size=1,\n",
    "#   color_mode='grayscale'\n",
    "#   )\n",
    "#\n",
    "# testing_normalized_ds = testing_ds.map(lambda x, y: (normalization_layer(x), y))\n",
    "# testing_image_batch, testing_labels_batch = next(iter(testing_normalized_ds))\n"
   ]
  },
  {
   "cell_type": "code",
   "execution_count": 113,
   "id": "f0cc2766",
   "metadata": {
    "pycharm": {
     "name": "#%%\n"
    }
   },
   "outputs": [
    {
     "name": "stdout",
     "output_type": "stream",
     "text": [
      "2/2 [==============================] - 0s 5ms/step\b\b\b\b\b\b\b\b\b\b\b\b\b\b\b\b\b\b\b\b\b\b\b\b\b\b\b\b\b\b\b\b\b\b\b\b\b\b\b\b\b\b\n"
     ]
    },
    {
     "data": {
      "text/plain": [
       "array([[ -292.7022  , -1864.0464  ,  1193.3007  ,  1272.931   ,\n",
       "        -1080.4885  ,   -43.669655,  -760.62317 , -1429.5154  ,\n",
       "          257.2695  , -2579.77    ],\n",
       "       [  259.88556 , -1370.9014  ,   270.61807 ,    90.21795 ,\n",
       "         -976.1065  ,  -378.90308 ,  -185.88264 , -1444.0776  ,\n",
       "          745.89233 ,  -855.32806 ]], dtype=float32)"
      ]
     },
     "execution_count": 113,
     "metadata": {},
     "output_type": "execute_result"
    }
   ],
   "source": [
    "#print(train_ds[0])\n",
    "model.predict(testing_ds)"
   ]
  }
 ],
 "metadata": {
  "kernelspec": {
   "name": "tf_2.10",
   "language": "python",
   "display_name": "tf_2.10"
  },
  "language_info": {
   "codemirror_mode": {
    "name": "ipython",
    "version": 3
   },
   "file_extension": ".py",
   "mimetype": "text/x-python",
   "name": "python",
   "nbconvert_exporter": "python",
   "pygments_lexer": "ipython3",
   "version": "3.10.0"
  }
 },
 "nbformat": 4,
 "nbformat_minor": 5
}